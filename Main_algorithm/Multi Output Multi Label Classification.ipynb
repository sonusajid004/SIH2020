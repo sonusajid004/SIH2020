{
 "cells": [
  {
   "cell_type": "markdown",
   "metadata": {},
   "source": [
    "### Import These Libraries"
   ]
  },
  {
   "cell_type": "code",
   "execution_count": null,
   "metadata": {},
   "outputs": [],
   "source": [
    "import matplotlib\n",
    "%matplotlib inline\n",
    "\n",
    "from tensorflow.keras.optimizers import Adam\n",
    "from tensorflow.keras.preprocessing.image import img_to_array\n",
    "from sklearn.preprocessing import LabelBinarizer\n",
    "from sklearn.model_selection import train_test_split\n",
    "from numpy import expand_dims\n",
    "from keras.preprocessing.image import load_img\n",
    "from keras.preprocessing.image import img_to_array\n",
    "\n",
    "\n",
    "#from imutils import paths\n",
    "import matplotlib.pyplot as plt\n",
    "import numpy as np\n",
    "import argparse\n",
    "import random\n",
    "import pickle\n",
    "import cv2\n",
    "import os\n",
    "\n",
    "from tensorflow.keras.preprocessing.image import ImageDataGenerator\n",
    "from tensorflow.keras.models import Model\n",
    "from tensorflow.keras.layers import BatchNormalization\n",
    "from tensorflow.keras.layers import Conv2D\n",
    "from tensorflow.keras.layers import MaxPooling2D\n",
    "from tensorflow.keras.layers import Activation\n",
    "from tensorflow.keras.layers import Dropout\n",
    "from tensorflow.keras.layers import Lambda\n",
    "from tensorflow.keras.layers import Dense\n",
    "from tensorflow.keras.layers import Flatten\n",
    "from tensorflow.keras.layers import Input\n",
    "import tensorflow as tf"
   ]
  },
  {
   "cell_type": "markdown",
   "metadata": {},
   "source": [
    "### Initializing Variables "
   ]
  },
  {
   "cell_type": "code",
   "execution_count": null,
   "metadata": {},
   "outputs": [],
   "source": [
    "EPOCHS = 50\n",
    "INIT_LR = 1e-3\n",
    "BS = 32\n",
    "IMAGE_DIMS = (96, 96, 3)"
   ]
  },
  {
   "cell_type": "markdown",
   "metadata": {},
   "source": [
    "### Class For Multi Output Multi Label Classification"
   ]
  },
  {
   "cell_type": "code",
   "execution_count": null,
   "metadata": {},
   "outputs": [],
   "source": [
    "class MyModel:\n",
    "    @staticmethod\n",
    "    def build_type_branch(inputs, numTypes,\n",
    "        finalAct=\"softmax\", chanDim=-1):\n",
    "       \n",
    "        \n",
    "      \n",
    "        x = Conv2D(32, (3, 3), padding=\"same\")(inputs)\n",
    "        x = Activation(\"relu\")(x)\n",
    "        x = BatchNormalization(axis=chanDim)(x)\n",
    "        x = MaxPooling2D(pool_size=(3, 3))(x)\n",
    "        x = Dropout(0.25)(x)\n",
    "        x = Conv2D(64, (3, 3), padding=\"same\")(x)\n",
    "        x = Activation(\"relu\")(x)\n",
    "        x = BatchNormalization(axis=chanDim)(x)\n",
    "        x = Conv2D(64, (3, 3), padding=\"same\")(x)\n",
    "        x = Activation(\"relu\")(x)\n",
    "        x = BatchNormalization(axis=chanDim)(x)\n",
    "        x = MaxPooling2D(pool_size=(2, 2))(x)\n",
    "        x = Dropout(0.25)(x)\n",
    "        \n",
    "        x = Conv2D(32, (3, 3), padding=\"same\")(x)\n",
    "        x = Activation(\"relu\")(x)\n",
    "        x = BatchNormalization(axis=chanDim)(x)\n",
    "        x = MaxPooling2D(pool_size=(3, 3))(x)\n",
    "        x = Dropout(0.25)(x)\n",
    "        x = Conv2D(64, (3, 3), padding=\"same\")(x)\n",
    "        x = Activation(\"relu\")(x)\n",
    "        x = BatchNormalization(axis=chanDim)(x)\n",
    "        x = Conv2D(64, (3, 3), padding=\"same\")(x)\n",
    "        x = Activation(\"relu\")(x)\n",
    "        x = BatchNormalization(axis=chanDim)(x)\n",
    "        x = MaxPooling2D(pool_size=(2, 2))(x)\n",
    "        x = Dropout(0.25)(x)\n",
    "       \n",
    "        x = Conv2D(128, (3, 3), padding=\"same\")(x)\n",
    "        x = Activation(\"relu\")(x)\n",
    "        x = BatchNormalization(axis=chanDim)(x)\n",
    "        x = Conv2D(128, (3, 3), padding=\"same\")(x)\n",
    "        x = Activation(\"relu\")(x)\n",
    "        x = BatchNormalization(axis=chanDim)(x)\n",
    "        x = MaxPooling2D(pool_size=(2, 2))(x)\n",
    "        x = Dropout(0.25)(x)\n",
    "        \n",
    "        x = Flatten()(x)\n",
    "        x = Dense(256)(x)\n",
    "        x = Activation(\"relu\")(x)\n",
    "        x = BatchNormalization()(x)\n",
    "        x = Dropout(0.5)(x)\n",
    "        x = Dense(numTypes)(x)\n",
    "        x = Activation(finalAct, name=\"type_output\")(x)\n",
    "       \n",
    "        return x\n",
    "    \n",
    "    @staticmethod\n",
    "    def build_color_branch(inputs, numColors, finalAct=\"softmax\",\n",
    "        chanDim=-1):\n",
    "        # CONV => RELU => POOL\n",
    "        x = Conv2D(16, (3, 3), padding=\"same\")(inputs)\n",
    "        x = Activation(\"relu\")(x)\n",
    "        x = BatchNormalization(axis=chanDim)(x)\n",
    "        x = MaxPooling2D(pool_size=(3, 3))(x)\n",
    "        x = Dropout(0.25)(x)\n",
    "        # CONV => RELU => POOL\n",
    "        x = Conv2D(32, (3, 3), padding=\"same\")(x)\n",
    "        x = Activation(\"relu\")(x)\n",
    "        x = BatchNormalization(axis=chanDim)(x)\n",
    "        x = MaxPooling2D(pool_size=(2, 2))(x)\n",
    "        x = Dropout(0.25)(x)\n",
    "        # CONV => RELU => POOL\n",
    "        x = Conv2D(32, (3, 3), padding=\"same\")(x)\n",
    "        x = Activation(\"relu\")(x)\n",
    "        x = BatchNormalization(axis=chanDim)(x)\n",
    "        x = MaxPooling2D(pool_size=(2, 2))(x)\n",
    "        x = Dropout(0.25)(x)\n",
    "        \n",
    "        x = Flatten()(x)\n",
    "        x = Dense(128)(x)\n",
    "        x = Activation(\"relu\")(x)\n",
    "        x = BatchNormalization()(x)\n",
    "        x = Dropout(0.5)(x)\n",
    "        x = Dense(numColors)(x)\n",
    "        x = Activation(finalAct, name=\"color_output\")(x)\n",
    "       \n",
    "        return x\n",
    "    \n",
    "    @staticmethod\n",
    "    def build_company_branch(inputs, numCompanies, finalAct=\"softmax\",\n",
    "        chanDim=-1):\n",
    "       \n",
    "        x = Conv2D(16, (3, 3), padding=\"same\")(inputs)\n",
    "        x = Activation(\"relu\")(x)\n",
    "        x = BatchNormalization(axis=chanDim)(x)\n",
    "        x = MaxPooling2D(pool_size=(3, 3))(x)\n",
    "        x = Dropout(0.5)(x)\n",
    "       \n",
    "        x = Conv2D(32, (3, 3), padding=\"same\")(x)\n",
    "        x = Activation(\"relu\")(x)\n",
    "        x = BatchNormalization(axis=chanDim)(x)\n",
    "        x = MaxPooling2D(pool_size=(2, 2))(x)\n",
    "        x = Dropout(0.5)(x)\n",
    "        \n",
    "        x = Conv2D(32, (3, 3), padding=\"same\")(x)\n",
    "        x = Activation(\"relu\")(x)\n",
    "        x = BatchNormalization(axis=chanDim)(x)\n",
    "        x = MaxPooling2D(pool_size=(2, 2))(x)\n",
    "        x = Dropout(0.5)(x)\n",
    "        \n",
    "        x = Conv2D(32, (3, 3), padding=\"same\")(x)\n",
    "        x = Activation(\"relu\")(x)\n",
    "        x = BatchNormalization(axis=chanDim)(x)\n",
    "        x = MaxPooling2D(pool_size=(2, 2))(x)\n",
    "        x = Dropout(0.5)(x)\n",
    "        \n",
    "        \n",
    "        x = Flatten()(x)\n",
    "        x = Dense(128)(x)\n",
    "        x = Activation(\"relu\")(x)\n",
    "        x = BatchNormalization()(x)\n",
    "        x = Dropout(0.5)(x)\n",
    "        x = Dense(numCompanies)(x)\n",
    "        x = Activation(finalAct, name=\"company_output\")(x)\n",
    "       \n",
    "        return x\n",
    "    \n",
    "    @staticmethod\n",
    "    def build_view_branch(inputs, numViews, finalAct=\"softmax\",\n",
    "        chanDim=-1):\n",
    "       \n",
    "        x = Conv2D(16, (3, 3), padding=\"same\")(inputs)\n",
    "        x = Activation(\"relu\")(x)\n",
    "        x = BatchNormalization(axis=chanDim)(x)\n",
    "        x = MaxPooling2D(pool_size=(3, 3))(x)\n",
    "        x = Dropout(0.25)(x)\n",
    "       \n",
    "        x = Conv2D(32, (3, 3), padding=\"same\")(x)\n",
    "        x = Activation(\"relu\")(x)\n",
    "        x = BatchNormalization(axis=chanDim)(x)\n",
    "        x = MaxPooling2D(pool_size=(2, 2))(x)\n",
    "        x = Dropout(0.25)(x)\n",
    "        \n",
    "        x = Conv2D(32, (3, 3), padding=\"same\")(x)\n",
    "        x = Activation(\"relu\")(x)\n",
    "        x = BatchNormalization(axis=chanDim)(x)\n",
    "        x = MaxPooling2D(pool_size=(2, 2))(x)\n",
    "        x = Dropout(0.25)(x)\n",
    "        \n",
    "        x = Flatten()(x)\n",
    "        x = Dense(128)(x)\n",
    "        x = Activation(\"relu\")(x)\n",
    "        x = BatchNormalization()(x)\n",
    "        x = Dropout(0.5)(x)\n",
    "        x = Dense(numViews)(x)\n",
    "        x = Activation(finalAct, name=\"view_output\")(x)\n",
    "       \n",
    "        return x\n",
    "    @staticmethod\n",
    "    def build_height_branch(inputs, numHeight=1, finalAct=\"relu\",\n",
    "        chanDim=-1):\n",
    "        x = Lambda(lambda c: tf.image.rgb_to_grayscale(c))(inputs)\n",
    "      \n",
    "        x = Conv2D(32, (3, 3), padding=\"same\")(x)\n",
    "        x = Activation(\"relu\")(x)\n",
    "        x = BatchNormalization(axis=chanDim)(x)\n",
    "        x = MaxPooling2D(pool_size=(3, 3))(x)\n",
    "        x = Dropout(0.25)(x)\n",
    "        x = Conv2D(64, (3, 3), padding=\"same\")(x)\n",
    "        x = Activation(\"relu\")(x)\n",
    "        x = BatchNormalization(axis=chanDim)(x)\n",
    "        x = Conv2D(64, (3, 3), padding=\"same\")(x)\n",
    "        x = Activation(\"relu\")(x)\n",
    "        x = BatchNormalization(axis=chanDim)(x)\n",
    "        x = MaxPooling2D(pool_size=(2, 2))(x)\n",
    "        x = Dropout(0.25)(x)\n",
    "       \n",
    "        x = Conv2D(128, (3, 3), padding=\"same\")(x)\n",
    "        x = Activation(\"relu\")(x)\n",
    "        x = BatchNormalization(axis=chanDim)(x)\n",
    "        x = Conv2D(128, (3, 3), padding=\"same\")(x)\n",
    "        x = Activation(\"relu\")(x)\n",
    "        x = BatchNormalization(axis=chanDim)(x)\n",
    "        x = MaxPooling2D(pool_size=(2, 2))(x)\n",
    "        x = Dropout(0.25)(x)\n",
    "        \n",
    "        x = Flatten()(x)\n",
    "        x = Dense(256)(x)\n",
    "        x = Activation(\"relu\")(x)\n",
    "        x = BatchNormalization()(x)\n",
    "        x = Dropout(0.5)(x)\n",
    "        x = Dense(numHeight)(x)\n",
    "        x = Activation(finalAct, name=\"height_output\")(x)\n",
    "        \n",
    "        return x\n",
    "    \n",
    "    @staticmethod\n",
    "    def build_scratch_branch(inputs, numScratch=1, finalAct=\"sigmoid\",\n",
    "        chanDim=-1):\n",
    "        x = Lambda(lambda c: tf.image.rgb_to_grayscale(c))(inputs)\n",
    "      \n",
    "        x = Conv2D(32, (3, 3), padding=\"same\")(x)\n",
    "        x = Activation(\"relu\")(x)\n",
    "        x = BatchNormalization(axis=chanDim)(x)\n",
    "        x = MaxPooling2D(pool_size=(3, 3))(x)\n",
    "        x = Dropout(0.25)(x)\n",
    "        x = Conv2D(64, (3, 3), padding=\"same\")(x)\n",
    "        x = Activation(\"relu\")(x)\n",
    "        x = BatchNormalization(axis=chanDim)(x)\n",
    "        x = Conv2D(64, (3, 3), padding=\"same\")(x)\n",
    "        x = Activation(\"relu\")(x)\n",
    "        x = BatchNormalization(axis=chanDim)(x)\n",
    "        x = MaxPooling2D(pool_size=(2, 2))(x)\n",
    "        x = Dropout(0.25)(x)\n",
    "       \n",
    "        x = Conv2D(128, (3, 3), padding=\"same\")(x)\n",
    "        x = Activation(\"relu\")(x)\n",
    "        x = BatchNormalization(axis=chanDim)(x)\n",
    "        x = Conv2D(128, (3, 3), padding=\"same\")(x)\n",
    "        x = Activation(\"relu\")(x)\n",
    "        x = BatchNormalization(axis=chanDim)(x)\n",
    "        x = MaxPooling2D(pool_size=(2, 2))(x)\n",
    "        x = Dropout(0.25)(x)\n",
    "        \n",
    "        x = Flatten()(x)\n",
    "        x = Dense(256)(x)\n",
    "        x = Activation(\"relu\")(x)\n",
    "        x = BatchNormalization()(x)\n",
    "        x = Dropout(0.5)(x)\n",
    "        x = Dense(numScratch)(x)\n",
    "        x = Activation(finalAct, name=\"scratch_output\")(x)\n",
    "        return x\n",
    "    \n",
    "    \n",
    "    \n",
    "    @staticmethod\n",
    "    def build_width_branch(inputs, numWidth=1, finalAct=\"relu\",\n",
    "        chanDim=-1):\n",
    "        x = Lambda(lambda c: tf.image.rgb_to_grayscale(c))(inputs)\n",
    "      \n",
    "        x = Conv2D(32, (3, 3), padding=\"same\")(x)\n",
    "        x = Activation(\"relu\")(x)\n",
    "        x = BatchNormalization(axis=chanDim)(x)\n",
    "        x = MaxPooling2D(pool_size=(3, 3))(x)\n",
    "        x = Dropout(0.25)(x)\n",
    "        x = Conv2D(64, (3, 3), padding=\"same\")(x)\n",
    "        x = Activation(\"relu\")(x)\n",
    "        x = BatchNormalization(axis=chanDim)(x)\n",
    "        x = Conv2D(64, (3, 3), padding=\"same\")(x)\n",
    "        x = Activation(\"relu\")(x)\n",
    "        x = BatchNormalization(axis=chanDim)(x)\n",
    "        x = MaxPooling2D(pool_size=(2, 2))(x)\n",
    "        x = Dropout(0.25)(x)\n",
    "       \n",
    "        x = Conv2D(128, (3, 3), padding=\"same\")(x)\n",
    "        x = Activation(\"relu\")(x)\n",
    "        x = BatchNormalization(axis=chanDim)(x)\n",
    "        x = Conv2D(128, (3, 3), padding=\"same\")(x)\n",
    "        x = Activation(\"relu\")(x)\n",
    "        x = BatchNormalization(axis=chanDim)(x)\n",
    "        x = MaxPooling2D(pool_size=(2, 2))(x)\n",
    "        x = Dropout(0.25)(x)\n",
    "        \n",
    "        x = Flatten()(x)\n",
    "        x = Dense(256)(x)\n",
    "        x = Activation(\"relu\")(x)\n",
    "        x = BatchNormalization()(x)\n",
    "        x = Dropout(0.5)(x)\n",
    "        x = Dense(numWidth)(x)\n",
    "        x = Activation(finalAct, name=\"width_output\")(x)\n",
    "        \n",
    "        return x\n",
    "    @staticmethod\n",
    "    def build(width, height, numTypes, numColors,numCompanies,numViews =5,finalAct=\"softmax\"):\n",
    "        \n",
    "        inputShape = (height, width, 3)\n",
    "        chanDim = -1\n",
    "        \n",
    "        inputs = Input(shape=inputShape)\n",
    "        typeBranch = MyModel.build_type_branch(inputs,\n",
    "            numTypes, finalAct=finalAct, chanDim=chanDim\n",
    "        ) \n",
    "        colorBranch = MyModel.build_color_branch(inputs,\n",
    "            numColors, finalAct=finalAct, chanDim=chanDim)\n",
    "        companyBranch = MyModel.build_company_branch(\n",
    "            inputs,\n",
    "            numCompanies, finalAct=finalAct, chanDim=chanDim\n",
    "        )\n",
    "        viewBranch =  MyModel. build_view_branch(inputs,\n",
    "            numViews, finalAct=finalAct, chanDim=chanDim\n",
    "        )\n",
    "        scratchBranch = MyModel.build_scratch_branch(inputs)\n",
    "        \n",
    "        model = Model(\n",
    "            inputs=inputs,\n",
    "            outputs=[typeBranch, colorBranch\n",
    "                     #,companyBranch,\n",
    "                     ##scratchBranch,viewBranch\n",
    "                    ],\n",
    "            name=\"mymodel\")\n",
    "       \n",
    "        return model\n",
    "    \n",
    "       \n",
    "    \n",
    "    "
   ]
  },
  {
   "cell_type": "markdown",
   "metadata": {},
   "source": [
    "### Randomly Shuffle All The Images"
   ]
  },
  {
   "cell_type": "code",
   "execution_count": null,
   "metadata": {},
   "outputs": [],
   "source": [
    "# grab the image paths and randomly shuffle them\n",
    "print(\"[INFO] loading images...\")\n",
    "imagePaths = sorted(list(paths.list_images(\"data\")))\n",
    "random.seed(42)\n",
    "random.shuffle(imagePaths)\n",
    "# initialize the data, clothing category labels (i.e., shirts, jeans,\n",
    "# dresses, etc.) along with the color labels (i.e., red, blue, etc.)\n",
    "data = []\n",
    "categoryLabels = []\n",
    "colorLabels = []"
   ]
  },
  {
   "cell_type": "markdown",
   "metadata": {},
   "source": [
    "### Image Augmentation"
   ]
  },
  {
   "cell_type": "code",
   "execution_count": null,
   "metadata": {},
   "outputs": [],
   "source": [
    "# path         --> path where all the images are stored\n",
    "# no_of_IMAGES --> number of augmented images should be created\n",
    "def augmented_images_generations(path,no_of_images):\n",
    "    d = os.listdir(path)\n",
    "     \n",
    "    for j in range(len(d)):\n",
    "        (type,color,company,height,width,scratch,view) = d[j].split('_')[:]\n",
    "        view = view.split('.')[0]\n",
    "        (type,color,company,height,width,scratch,view) = [x.lower() for x in (type,color,company,height,width,scratch,view)]\n",
    "        print(type,color,company,height,width,scratch,view)\n",
    "        img = load_img(os.path.join(path,d[j]))\n",
    "       \n",
    "        \n",
    "        data = img_to_array(img)\n",
    "        samples = expand_dims(data, 0)\n",
    "        datagen = ImageDataGenerator(height_shift_range=0.5,zoom_range=0.2,rotation_range=45)\n",
    "        it = datagen.flow(samples, batch_size=1)\n",
    "        counter = 1\n",
    "        os.mkdir(os.path.join(\"output\",type+\"_\"+color+\"_\"+company+\"_\"+scratch+\"_\"+view))\n",
    "        for i in range(no_of_images):\n",
    "            \n",
    "            batch = it.next()\n",
    "            image = batch[0].astype('uint8')\n",
    "            p = os.path.join(\"output\",type+\"_\"+color+\"_\"+company+\"_\"+scratch+\"_\"+view,str(counter)+\".png\")\n",
    "            print(p)\n",
    "            cv2.imwrite(p,image)\n",
    "            counter+=1"
   ]
  },
  {
   "cell_type": "code",
   "execution_count": null,
   "metadata": {},
   "outputs": [],
   "source": [
    "augmented_images_generations(\"data\",20)"
   ]
  },
  {
   "cell_type": "code",
   "execution_count": null,
   "metadata": {},
   "outputs": [],
   "source": [
    "os.listdir(\"output\")"
   ]
  },
  {
   "cell_type": "markdown",
   "metadata": {},
   "source": [
    "### Getting the labels of each Feature (Type , color) from the name of the image where images are stored under the names of their features"
   ]
  },
  {
   "cell_type": "code",
   "execution_count": null,
   "metadata": {},
   "outputs": [],
   "source": [
    "type_labels=[]\n",
    "color_labels=[]\n",
    "view_labels=[]\n",
    "company_labels=[]\n",
    "scratch_labels=[]\n",
    "data=[]\n",
    "\n",
    "for i in os.listdir(\"output\"):\n",
    "    \n",
    "    print(i.split('_')[:])\n",
    "    if(i==\".DS_Store\"):\n",
    "        continue\n",
    "    (type,color,company,scratch,view) = i.split('_')[:]\n",
    "    view = view.split('.')[0]\n",
    "    for j in os.listdir(\"output/\"+i):\n",
    "        image = cv2.imread(\"output/\"+i+\"/\"+j)\n",
    "        image = cv2.resize(image, (IMAGE_DIMS[1], IMAGE_DIMS[0]))\n",
    "        image = cv2.cvtColor(image, cv2.COLOR_BGR2RGB)\n",
    "        image = img_to_array(image)\n",
    "        data.append(image)\n",
    "        type_labels.append(type)\n",
    "        color_labels.append(color)\n",
    "        view_labels.append(view)\n",
    "        company_labels.append(company)\n",
    "        scratch_labels.append(int(scratch))\n",
    "        \n",
    "        \n",
    "        "
   ]
  },
  {
   "cell_type": "markdown",
   "metadata": {},
   "source": [
    "### Converting them to numpy arrays since CNN's only deal with numpy arrays"
   ]
  },
  {
   "cell_type": "code",
   "execution_count": null,
   "metadata": {},
   "outputs": [],
   "source": [
    "data = np.array(data, dtype=\"float\") / 255.0\n",
    "print(\"[INFO] data matrix: {} images ({:.2f}MB)\".format(\n",
    "    len(imagePaths), data.nbytes / (1024 * 1000.0)))\n",
    "\n",
    "type_labels = np.array(type_labels)\n",
    "color_labels = np.array(color_labels)\n",
    "view_labels = np.array(view_labels)\n",
    "company_labels = np.array(company_labels)\n",
    "scratch_labels = [int(x) for x in scratch_labels]\n",
    "scratch_labels = np.array(scratch_labels)"
   ]
  },
  {
   "cell_type": "markdown",
   "metadata": {},
   "source": [
    "### Encoding the Labels"
   ]
  },
  {
   "cell_type": "code",
   "execution_count": null,
   "metadata": {},
   "outputs": [],
   "source": [
    "print(\"[INFO] binarizing labels...\")\n",
    "typeLB = LabelBinarizer()\n",
    "colorLB = LabelBinarizer()\n",
    "viewLB = LabelBinarizer()\n",
    "companyLB = LabelBinarizer()\n",
    "\n",
    "type_labels = typeLB.fit_transform(type_labels)\n",
    "color_labels = colorLB.fit_transform(color_labels)\n",
    "view_labels = viewLB.fit_transform(view_labels)\n",
    "company_labels = companyLB.fit_transform(company_labels)"
   ]
  },
  {
   "cell_type": "markdown",
   "metadata": {},
   "source": [
    "### Train Test Split"
   ]
  },
  {
   "cell_type": "code",
   "execution_count": null,
   "metadata": {},
   "outputs": [],
   "source": [
    "split = train_test_split(data, type_labels, color_labels,view_labels,company_labels,scratch_labels,\n",
    "    test_size=0.2, random_state=42)\n",
    "\n",
    "(trainX, testX, trainTypeY, testTypeY,\n",
    "    trainColorY, testColorY,trainViewY,testViewY,trainCompanyY,testCompanyY,trainScratchY,testScratchY) = split"
   ]
  },
  {
   "cell_type": "markdown",
   "metadata": {},
   "source": [
    "### Compiling the Model"
   ]
  },
  {
   "cell_type": "code",
   "execution_count": null,
   "metadata": {},
   "outputs": [],
   "source": [
    "losses = {\n",
    "    \"type_output\": \"categorical_crossentropy\",\n",
    "    \"color_output\": \"categorical_crossentropy\",\n",
    "    #\"company_output\":\"categorical_crossentropy\",\n",
    "    #\"scratch_output\":\"binary_crossentropy\",\n",
    "    #\"view_output\":\"categorical_crossentropy\"\n",
    "}\n",
    "\n",
    "lossWeights = {\"type_output\": 1.0, \"color_output\": 1.0,\n",
    "               #\"company_output\":1.0,\n",
    "              #\"scratch_output\":0.1,\"view_output\":1.0\n",
    "              }\n",
    "model = MyModel.build(96,96,len(typeLB.classes_),len(colorLB.classes_),len(companyLB.classes_),len(viewLB.classes_))\n",
    "\n",
    "print(\"[INFO] compiling model...\")\n",
    "opt = Adam(lr=INIT_LR, decay=INIT_LR / EPOCHS)\n",
    "model.compile(optimizer=opt, loss=losses, loss_weights=lossWeights,\n",
    "    metrics=[\"accuracy\"],run_eagerly=True)"
   ]
  },
  {
   "cell_type": "markdown",
   "metadata": {},
   "source": [
    "### Training the model over 10 epochs"
   ]
  },
  {
   "cell_type": "code",
   "execution_count": null,
   "metadata": {},
   "outputs": [],
   "source": [
    "EPOCHS = 10\n",
    "\n",
    "H = model.fit(x=data,\n",
    "    y={\"type_output\": type_labels, \"color_output\": color_labels\n",
    "       #,\"company_output\":company_labels,\n",
    "       #\"scratch_output\":scratch_labels,\n",
    "      #\"view_output\":view_labels\n",
    "      },\n",
    "    epochs=EPOCHS,\n",
    "    verbose=1)"
   ]
  },
  {
   "cell_type": "markdown",
   "metadata": {},
   "source": [
    "### prediction on new images"
   ]
  },
  {
   "cell_type": "code",
   "execution_count": null,
   "metadata": {},
   "outputs": [],
   "source": [
    "for i in os.listdir(\"data\"):\n",
    "    \n",
    "    image = cv2.imread(\"data/\"+i)\n",
    "    if(i==\".DS_Store\"):\n",
    "        continue\n",
    "    print(i,end=\"\")\n",
    "    image = cv2.resize(image, (IMAGE_DIMS[1], IMAGE_DIMS[0]))\n",
    "    image = cv2.cvtColor(image, cv2.COLOR_BGR2RGB)\n",
    "\n",
    "    image = img_to_array(image)\n",
    "    samples = expand_dims(image, 0)\n",
    "    res = model.predict(samples)\n",
    "\n",
    "    print(typeLB.classes_[np.argmax(res[0][0])],colorLB.classes_[np.argmax(res[1][0])])"
   ]
  },
  {
   "cell_type": "markdown",
   "metadata": {},
   "source": [
    "### Saving the model weights"
   ]
  },
  {
   "cell_type": "code",
   "execution_count": null,
   "metadata": {},
   "outputs": [],
   "source": [
    "model.save(\"model.h5\")"
   ]
  },
  {
   "cell_type": "code",
   "execution_count": null,
   "metadata": {},
   "outputs": [],
   "source": [
    "print(typeLB.classes_)"
   ]
  },
  {
   "cell_type": "code",
   "execution_count": null,
   "metadata": {},
   "outputs": [],
   "source": [
    "print(companyLB.classes_)"
   ]
  },
  {
   "cell_type": "markdown",
   "metadata": {},
   "source": [
    "### Saving the Encoded labels of each feature as pickle file "
   ]
  },
  {
   "cell_type": "code",
   "execution_count": null,
   "metadata": {},
   "outputs": [],
   "source": [
    "f = open(\"type_lb.pickle\",\"wb\")\n",
    "\n",
    "\n",
    "f.write(pickle.dumps(typeLB))\n",
    "\n",
    "f = open(\"color_lb.pickle\",\"wb\")\n",
    "\n",
    "f.write(pickle.dumps(colorLB))\n",
    "\n",
    "#f = open(\"company_lb.pickle\",\"wb\")\n",
    "\n",
    "#f.write(pickle.dumps(companyLB))\n",
    "\n"
   ]
  },
  {
   "cell_type": "code",
   "execution_count": null,
   "metadata": {},
   "outputs": [],
   "source": [
    "f =  open(\"type_lb.pickle\",\"rb\") \n",
    "t=pickle.loads(f.read())"
   ]
  },
  {
   "cell_type": "code",
   "execution_count": null,
   "metadata": {},
   "outputs": [],
   "source": [
    "t.classes_"
   ]
  },
  {
   "cell_type": "code",
   "execution_count": null,
   "metadata": {},
   "outputs": [],
   "source": [
    "def fun():\n",
    "    return {'path':'123',\n",
    "    'type':typeLB.classes_[np.argmax(res[0][0])],\n",
    "    'color':colorLB.classes_[np.argmax(res[1][0])],\n",
    "    'company':companyLB.classes_[np.argmax(res[2][0])]\n",
    "    }"
   ]
  },
  {
   "cell_type": "code",
   "execution_count": null,
   "metadata": {},
   "outputs": [],
   "source": [
    "\n",
    "import tensorflow as tf\n",
    "\n",
    "from keras.models import model_from_json\n",
    "model.save('model2.model',save_format=\"h5\")\n",
    "\n",
    "from keras.models import load_model\n",
    "\n",
    "x=load_model('model2.model',custom_objects={\"\": tf})"
   ]
  },
  {
   "cell_type": "code",
   "execution_count": null,
   "metadata": {},
   "outputs": [],
   "source": [
    "for i in os.listdir(\"data\"):\n",
    "    \n",
    "    image = cv2.imread(\"data/\"+i)\n",
    "    if(i==\".DS_Store\"):\n",
    "        continue\n",
    "    print(i,end=\"\")\n",
    "    image = cv2.resize(image, (IMAGE_DIMS[1], IMAGE_DIMS[0]))\n",
    "    image = cv2.cvtColor(image, cv2.COLOR_BGR2RGB)\n",
    "\n",
    "    image = img_to_array(image)\n",
    "    samples = expand_dims(image, 0)\n",
    "    res = x.predict(samples)\n",
    "\n",
    "    print(typeLB.classes_[np.argmax(res[0][0])],colorLB.classes_[np.argmax(res[1][0])])"
   ]
  },
  {
   "cell_type": "code",
   "execution_count": null,
   "metadata": {},
   "outputs": [],
   "source": [
    "from flask import request\n",
    "from flask import jsonify\n",
    "from flask_cors import CORS, cross_origin\n",
    "from flask import render_template\n",
    "from flask import Flask\n",
    "import base64"
   ]
  },
  {
   "cell_type": "code",
   "execution_count": null,
   "metadata": {},
   "outputs": [],
   "source": [
    "app = Flask(__name__)"
   ]
  },
  {
   "cell_type": "code",
   "execution_count": null,
   "metadata": {},
   "outputs": [],
   "source": [
    "tem = [{'path': 'SIH_Video/7/i5_1.png', 'type': 'trolley', 'color': 'violet'}, {'path': 'SIH_Video/7/i6_1.png', 'type': 'trolley', 'color': 'violet'}, {'path': 'SIH_Video/7/i6_2.png', 'type': 'trolley', 'color': 'violet'}, {'path': 'SIH_Video/7/i6_3.png', 'type': 'trolley', 'color': 'violet'}, {'path': 'SIH_Video/7/i8_1.png', 'type': 'trolley', 'color': 'violet'}, {'path': 'SIH_Video/7/i8_2.png', 'type': 'trolley', 'color': 'violet'}, {'path': 'SIH_Video/7/i9_1.png', 'type': 'trolley', 'color': 'grey'}, {'path': 'SIH_Video/7/i10_1.png', 'type': 'trolley', 'color': 'violet'}, {'path': 'SIH_Video/7/i11_1.png', 'type': 'trolley', 'color': 'violet'}, {'path': 'SIH_Video/7/i12_1.png', 'type': 'trolley', 'color': 'violet'}, {'path': 'SIH_Video/7/i12_2.png', 'type': 'trolley', 'color': 'violet'}, {'path': 'SIH_Video/7/i13_1.png', 'type': 'trolley', 'color': 'grey'}, {'path': 'SIH_Video/7/i15_1.png', 'type': 'trolley', 'color': 'grey'}]"
   ]
  },
  {
   "cell_type": "code",
   "execution_count": null,
   "metadata": {},
   "outputs": [],
   "source": [
    "for i in tem:\n",
    "    print(i['color'])"
   ]
  },
  {
   "cell_type": "code",
   "execution_count": null,
   "metadata": {},
   "outputs": [],
   "source": []
  }
 ],
 "metadata": {
  "kernelspec": {
   "display_name": "Python 3",
   "language": "python",
   "name": "python3"
  },
  "language_info": {
   "codemirror_mode": {
    "name": "ipython",
    "version": 3
   },
   "file_extension": ".py",
   "mimetype": "text/x-python",
   "name": "python",
   "nbconvert_exporter": "python",
   "pygments_lexer": "ipython3",
   "version": "3.7.3"
  }
 },
 "nbformat": 4,
 "nbformat_minor": 4
}
